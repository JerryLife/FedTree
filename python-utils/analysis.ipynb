{
 "cells": [
  {
   "cell_type": "code",
   "execution_count": 40,
   "metadata": {
    "pycharm": {
     "name": "#%%\n"
    }
   },
   "outputs": [],
   "source": [
    "import pickle\n",
    "\n",
    "'''\n",
    "load a raw data from a file\n",
    "dataset: from ['codrna', 'covtype', 'gisette', 'higgs']\n",
    "version: from ['1%', '0.1%']\n",
    "'''\n",
    "class Record(object):\n",
    "    \n",
    "    def __init__(self, raw_data):\n",
    "        self.raw_data = raw_data\n",
    "        \n",
    "    @classmethod\n",
    "    def load_from_file(cls, dataset, version):\n",
    "        with open(f'/{dataset}/{version}/data', 'rb') as f:\n",
    "            record = cls(pickle.load(f))\n",
    "            return record\n",
    "\n",
    "    '''\n",
    "    return a list of length 10, which is training seconds for seed from 0 to 9\n",
    "    '''\n",
    "    def train_times(self):\n",
    "        return self.raw_data['training_seconds']\n",
    "\n",
    "\n",
    "    '''\n",
    "    return a list of length 10, which is forgetting seconds for seed from 0 to 9\n",
    "    '''\n",
    "    def forget_times(self):\n",
    "        return self.raw_data['forgetting_seconds']\n",
    "\n",
    "\n",
    "    '''\n",
    "    return a list of length 10, which is retraining seconds for seed from 0 to 9\n",
    "    '''\n",
    "    def retrain_times(self):\n",
    "        return self.raw_data['retraining_seconds']\n",
    "\n",
    "\n",
    "    '''\n",
    "    read real labels for input datasets\n",
    "    dataset_type: from ['test', 'forget', 'retrain']\n",
    "    '''\n",
    "    def get_real_labels(self, dataset_type):\n",
    "        return self.raw_data[f'{dataset_type}_data_df'][['real']]\n",
    "\n",
    "\n",
    "    '''\n",
    "    read data as dataframe to calculate the matrix\n",
    "    model_type: from ['origin', 'forget', 'retrain']\n",
    "    dataset_type: from ['test', 'forget', 'retrain']\n",
    "    '''\n",
    "    def read(self, model_type, dataset_type):\n",
    "        return self.raw_data[f'{dataset_type}_data_df'].filter(regex=(f'{model_type}.*'))"
   ]
  },
  {
   "cell_type": "code",
   "execution_count": 49,
   "metadata": {
    "pycharm": {
     "name": "#%%\n"
    }
   },
   "outputs": [],
   "source": [
    "record = Record.load_from_file('higgs', '0.1%')"
   ]
  },
  {
   "cell_type": "code",
   "execution_count": 56,
   "metadata": {
    "pycharm": {
     "name": "#%%\n"
    }
   },
   "outputs": [
    {
     "data": {
      "text/plain": [
       "[31.664911,\n",
       " 29.902857,\n",
       " 27.165054,\n",
       " 31.664982,\n",
       " 31.49529,\n",
       " 30.568597,\n",
       " 29.522484,\n",
       " 29.93748,\n",
       " 30.551702,\n",
       " 31.39818]"
      ]
     },
     "execution_count": 56,
     "metadata": {},
     "output_type": "execute_result"
    }
   ],
   "source": [
    "record.retrain_times()"
   ]
  },
  {
   "cell_type": "code",
   "execution_count": null,
   "metadata": {
    "pycharm": {
     "name": "#%%\n"
    }
   },
   "outputs": [],
   "source": []
  }
 ],
 "metadata": {
  "kernelspec": {
   "display_name": "Python 3 (ipykernel)",
   "language": "python",
   "name": "python3"
  },
  "language_info": {
   "codemirror_mode": {
    "name": "ipython",
    "version": 3
   },
   "file_extension": ".py",
   "mimetype": "text/x-python",
   "name": "python",
   "nbconvert_exporter": "python",
   "pygments_lexer": "ipython3",
   "version": "3.9.12"
  }
 },
 "nbformat": 4,
 "nbformat_minor": 2
}